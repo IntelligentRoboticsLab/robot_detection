{
 "cells": [
  {
   "cell_type": "code",
   "execution_count": 13,
   "metadata": {},
   "outputs": [],
   "source": [
    "from utils import Encoder\n",
    "import torch\n",
    "from datasets import RoboEireanDataModule\n",
    "import lightning.pytorch as pl\n",
    "\n",
    "from models import JetNet, SingleShotDetectorLoss, ObjectDetectionTask\n",
    "from lightning.pytorch.loggers import TensorBoardLogger"
   ]
  },
  {
   "cell_type": "code",
   "execution_count": 18,
   "metadata": {},
   "outputs": [],
   "source": [
    "LEARNING_RATE = 1e-1\n",
    "ALPHA = 2.0\n",
    "NUM_CLASSES = 1\n",
    "DEFAULT_SCALINGS = torch.tensor(\n",
    "    [\n",
    "        [0.06549374, 0.12928654],\n",
    "        [0.11965626, 0.26605093],\n",
    "        [0.20708716, 0.38876095],\n",
    "        [0.31018215, 0.47485098],\n",
    "        [0.415882, 0.8048184],\n",
    "        [0.7293086, 0.8216225],\n",
    "    ]\n",
    ")\n",
    "encoder = Encoder(DEFAULT_SCALINGS, NUM_CLASSES)\n",
    "model = JetNet(NUM_CLASSES, DEFAULT_SCALINGS.shape[0])\n",
    "loss = SingleShotDetectorLoss(ALPHA)\n",
    "\n",
    "# data_module = RoboEireanDataModule(\"data/raw/\", encoder, 128)\n",
    "# data_module.setup(\"fit\")"
   ]
  },
  {
   "cell_type": "code",
   "execution_count": 20,
   "metadata": {},
   "outputs": [
    {
     "data": {
      "text/plain": [
       "ObjectDetectionTask(\n",
       "  (model): JetNet(\n",
       "    (input_layer): NormConv2dReLU(\n",
       "      (batch_normalization): BatchNorm2d(1, eps=1e-05, momentum=0.1, affine=True, track_running_stats=True)\n",
       "      (conv2d): Conv2d(1, 16, kernel_size=(3, 3), stride=(1, 1), padding=same, bias=False)\n",
       "      (relu): ReLU()\n",
       "    )\n",
       "    (depth_wise_backbone): Sequential(\n",
       "      (0): DepthWise(\n",
       "        (batch_normalization): BatchNorm2d(16, eps=1e-05, momentum=0.1, affine=True, track_running_stats=True)\n",
       "        (conv2d_1): Conv2d(16, 16, kernel_size=(3, 3), stride=(2, 2), padding=(1, 1), groups=16, bias=False)\n",
       "        (conv2d_2): Conv2d(16, 24, kernel_size=(1, 1), stride=(1, 1), padding=same)\n",
       "        (relu): ReLU()\n",
       "      )\n",
       "      (1): DepthWise(\n",
       "        (batch_normalization): BatchNorm2d(24, eps=1e-05, momentum=0.1, affine=True, track_running_stats=True)\n",
       "        (conv2d_1): Conv2d(24, 24, kernel_size=(3, 3), stride=(1, 1), padding=same, groups=24, bias=False)\n",
       "        (conv2d_2): Conv2d(24, 16, kernel_size=(1, 1), stride=(1, 1), padding=same)\n",
       "        (relu): ReLU()\n",
       "      )\n",
       "      (2): DepthWise(\n",
       "        (batch_normalization): BatchNorm2d(16, eps=1e-05, momentum=0.1, affine=True, track_running_stats=True)\n",
       "        (conv2d_1): Conv2d(16, 16, kernel_size=(3, 3), stride=(1, 1), padding=same, groups=16, bias=False)\n",
       "        (conv2d_2): Conv2d(16, 16, kernel_size=(1, 1), stride=(1, 1), padding=same)\n",
       "        (relu): ReLU()\n",
       "      )\n",
       "      (3): DepthWise(\n",
       "        (batch_normalization): BatchNorm2d(16, eps=1e-05, momentum=0.1, affine=True, track_running_stats=True)\n",
       "        (conv2d_1): Conv2d(16, 16, kernel_size=(3, 3), stride=(2, 2), padding=(1, 1), groups=16, bias=False)\n",
       "        (conv2d_2): Conv2d(16, 20, kernel_size=(1, 1), stride=(1, 1), padding=same)\n",
       "        (relu): ReLU()\n",
       "      )\n",
       "      (4): DepthWise(\n",
       "        (batch_normalization): BatchNorm2d(20, eps=1e-05, momentum=0.1, affine=True, track_running_stats=True)\n",
       "        (conv2d_1): Conv2d(20, 20, kernel_size=(3, 3), stride=(1, 1), padding=same, groups=20, bias=False)\n",
       "        (conv2d_2): Conv2d(20, 20, kernel_size=(1, 1), stride=(1, 1), padding=same)\n",
       "        (relu): ReLU()\n",
       "      )\n",
       "      (5): DepthWise(\n",
       "        (batch_normalization): BatchNorm2d(20, eps=1e-05, momentum=0.1, affine=True, track_running_stats=True)\n",
       "        (conv2d_1): Conv2d(20, 20, kernel_size=(3, 3), stride=(1, 1), padding=same, groups=20, bias=False)\n",
       "        (conv2d_2): Conv2d(20, 20, kernel_size=(1, 1), stride=(1, 1), padding=same)\n",
       "        (relu): ReLU()\n",
       "      )\n",
       "      (6): DepthWise(\n",
       "        (batch_normalization): BatchNorm2d(20, eps=1e-05, momentum=0.1, affine=True, track_running_stats=True)\n",
       "        (conv2d_1): Conv2d(20, 20, kernel_size=(3, 3), stride=(1, 1), padding=same, groups=20, bias=False)\n",
       "        (conv2d_2): Conv2d(20, 20, kernel_size=(1, 1), stride=(1, 1), padding=same)\n",
       "        (relu): ReLU()\n",
       "      )\n",
       "      (7): DepthWise(\n",
       "        (batch_normalization): BatchNorm2d(20, eps=1e-05, momentum=0.1, affine=True, track_running_stats=True)\n",
       "        (conv2d_1): Conv2d(20, 20, kernel_size=(3, 3), stride=(2, 2), padding=(1, 1), groups=20, bias=False)\n",
       "        (conv2d_2): Conv2d(20, 24, kernel_size=(1, 1), stride=(1, 1), padding=same)\n",
       "        (relu): ReLU()\n",
       "      )\n",
       "    )\n",
       "    (classifier): Sequential(\n",
       "      (0): NormConv2dReLU(\n",
       "        (batch_normalization): BatchNorm2d(24, eps=1e-05, momentum=0.1, affine=True, track_running_stats=True)\n",
       "        (conv2d): Conv2d(24, 24, kernel_size=(3, 3), stride=(1, 1), padding=same, bias=False)\n",
       "        (relu): ReLU()\n",
       "      )\n",
       "      (1): NormConv2dReLU(\n",
       "        (batch_normalization): BatchNorm2d(24, eps=1e-05, momentum=0.1, affine=True, track_running_stats=True)\n",
       "        (conv2d): Conv2d(24, 24, kernel_size=(3, 3), stride=(1, 1), padding=same, bias=False)\n",
       "        (relu): ReLU()\n",
       "      )\n",
       "      (2): NormConv2dReLU(\n",
       "        (batch_normalization): BatchNorm2d(24, eps=1e-05, momentum=0.1, affine=True, track_running_stats=True)\n",
       "        (conv2d): Conv2d(24, 24, kernel_size=(3, 3), stride=(1, 1), padding=same, bias=False)\n",
       "        (relu): ReLU()\n",
       "      )\n",
       "      (3): NormConv2dReLU(\n",
       "        (batch_normalization): BatchNorm2d(24, eps=1e-05, momentum=0.1, affine=True, track_running_stats=True)\n",
       "        (conv2d): Conv2d(24, 24, kernel_size=(3, 3), stride=(1, 1), padding=same, bias=False)\n",
       "        (relu): ReLU()\n",
       "      )\n",
       "    )\n",
       "    (output_layer): Conv2d(24, 36, kernel_size=(1, 1), stride=(1, 1), padding=same)\n",
       "  )\n",
       "  (loss): SingleShotDetectorLoss()\n",
       "  (mean_average_precision): MeanAveragePrecision()\n",
       ")"
      ]
     },
     "execution_count": 20,
     "metadata": {},
     "output_type": "execute_result"
    }
   ],
   "source": [
    "version = 3\n",
    "checkpoint_folder = f\"new_logs/lightning_logs/version_{version}/checkpoints/\"\n",
    "checkpoint_path = \"epoch=0-step=28.ckpt\"\n",
    "checkpoint_path = checkpoint_folder + checkpoint_path\n",
    "loaded_model = ObjectDetectionTask.load_from_checkpoint(\n",
    "    checkpoint_path=checkpoint_path, \n",
    "    model=model, \n",
    "    loss=loss, \n",
    "    encoder=encoder, \n",
    "    learning_rate=LEARNING_RATE)\n",
    "loaded_model"
   ]
  },
  {
   "cell_type": "code",
   "execution_count": 21,
   "metadata": {},
   "outputs": [
    {
     "name": "stdout",
     "output_type": "stream",
     "text": [
      "0.1\n"
     ]
    }
   ],
   "source": [
    "print(loaded_model.learning_rate)"
   ]
  },
  {
   "cell_type": "code",
   "execution_count": 23,
   "metadata": {},
   "outputs": [],
   "source": [
    "data_module = RoboEireanDataModule(\"data/raw/\", encoder, 128)\n",
    "data_module.setup(\"fit\")"
   ]
  },
  {
   "cell_type": "code",
   "execution_count": 32,
   "metadata": {},
   "outputs": [
    {
     "data": {
      "text/plain": [
       "tensor([[[[0.4782, 0.4401, 0.4555,  ..., 0.4563, 0.4688, 0.4641],\n",
       "          [0.4794, 0.4468, 0.4460,  ..., 0.4390, 0.4403, 0.4765],\n",
       "          [0.4625, 0.4600, 0.4668,  ..., 0.4582, 0.4505, 0.4713],\n",
       "          ...,\n",
       "          [0.3769, 0.3744, 0.3858,  ..., 0.3455, 0.3292, 0.3347],\n",
       "          [0.3620, 0.3566, 0.3679,  ..., 0.3710, 0.3333, 0.3480],\n",
       "          [0.3682, 0.3841, 0.3772,  ..., 0.3642, 0.3345, 0.3755]]],\n",
       "\n",
       "\n",
       "        [[[0.4644, 0.4334, 0.4438,  ..., 0.4596, 0.4667, 0.4630],\n",
       "          [0.4558, 0.4240, 0.4253,  ..., 0.4453, 0.4516, 0.4711],\n",
       "          [0.4435, 0.4357, 0.4437,  ..., 0.4519, 0.4479, 0.4654],\n",
       "          ...,\n",
       "          [0.2981, 0.3001, 0.3115,  ..., 0.3162, 0.3042, 0.3077],\n",
       "          [0.2925, 0.2805, 0.2936,  ..., 0.3503, 0.3116, 0.3219],\n",
       "          [0.2931, 0.3067, 0.3041,  ..., 0.3426, 0.3146, 0.3480]]],\n",
       "\n",
       "\n",
       "        [[[0.1556, 0.1572, 0.1581,  ..., 0.4518, 0.4606, 0.4526],\n",
       "          [0.1533, 0.1544, 0.1542,  ..., 0.4290, 0.4348, 0.4540],\n",
       "          [0.1518, 0.1518, 0.1520,  ..., 0.4428, 0.4291, 0.4442],\n",
       "          ...,\n",
       "          [0.2383, 0.2434, 0.2467,  ..., 0.3145, 0.3004, 0.3044],\n",
       "          [0.2326, 0.2242, 0.2381,  ..., 0.3386, 0.3055, 0.3181],\n",
       "          [0.2375, 0.2489, 0.2519,  ..., 0.3371, 0.3050, 0.3403]]],\n",
       "\n",
       "\n",
       "        ...,\n",
       "\n",
       "\n",
       "        [[[0.7100, 0.7139, 0.7142,  ..., 0.7089, 0.7111, 0.7184],\n",
       "          [0.7201, 0.7224, 0.7108,  ..., 0.7863, 0.7839, 0.7808],\n",
       "          [0.6270, 0.6362, 0.6229,  ..., 0.8008, 0.7977, 0.7933],\n",
       "          ...,\n",
       "          [0.6986, 0.7745, 0.8210,  ..., 0.3852, 0.3903, 0.3830],\n",
       "          [0.8247, 0.8280, 0.8315,  ..., 0.3844, 0.3957, 0.3794],\n",
       "          [0.8230, 0.7705, 0.6489,  ..., 0.3860, 0.3979, 0.3813]]],\n",
       "\n",
       "\n",
       "        [[[0.4709, 0.5051, 0.5181,  ..., 0.9901, 0.7256, 0.8994],\n",
       "          [0.4592, 0.5082, 0.5205,  ..., 0.9932, 0.7274, 0.8629],\n",
       "          [0.4378, 0.5028, 0.5221,  ..., 0.9902, 0.7323, 0.8143],\n",
       "          ...,\n",
       "          [0.4168, 0.4188, 0.4177,  ..., 0.5850, 0.5155, 0.4695],\n",
       "          [0.4101, 0.4126, 0.4201,  ..., 0.4422, 0.4501, 0.4448],\n",
       "          [0.3891, 0.3976, 0.4068,  ..., 0.4423, 0.4368, 0.4370]]],\n",
       "\n",
       "\n",
       "        [[[0.6272, 0.4567, 0.3945,  ..., 0.3517, 0.3366, 0.3468],\n",
       "          [0.6795, 0.5605, 0.4097,  ..., 0.3423, 0.3384, 0.3473],\n",
       "          [0.6932, 0.6691, 0.4840,  ..., 0.3430, 0.3434, 0.3383],\n",
       "          ...,\n",
       "          [0.2408, 0.2392, 0.2417,  ..., 0.6518, 0.6569, 0.6575],\n",
       "          [0.2484, 0.2506, 0.2401,  ..., 0.6670, 0.6688, 0.6638],\n",
       "          [0.2397, 0.2250, 0.2245,  ..., 0.6789, 0.6775, 0.6688]]]])"
      ]
     },
     "execution_count": 32,
     "metadata": {},
     "output_type": "execute_result"
    }
   ],
   "source": [
    "batch = next(iter(data_module.val_dataloader()))\n",
    "test_sample = batch[0]\n",
    "test_sample"
   ]
  },
  {
   "cell_type": "code",
   "execution_count": 38,
   "metadata": {},
   "outputs": [],
   "source": [
    "loaded_model.eval()\n",
    "y_hat = loaded_model.model(test_sample)\n",
    "pred_bounding_boxes, pred_logits = y_hat"
   ]
  },
  {
   "cell_type": "code",
   "execution_count": 40,
   "metadata": {},
   "outputs": [
    {
     "data": {
      "text/plain": [
       "torch.Size([128, 480, 2])"
      ]
     },
     "execution_count": 40,
     "metadata": {},
     "output_type": "execute_result"
    }
   ],
   "source": [
    "pred_logits.shape"
   ]
  },
  {
   "cell_type": "code",
   "execution_count": 41,
   "metadata": {},
   "outputs": [
    {
     "data": {
      "text/plain": [
       "torch.Size([128, 480, 4])"
      ]
     },
     "execution_count": 41,
     "metadata": {},
     "output_type": "execute_result"
    }
   ],
   "source": [
    "pred_bounding_boxes.shape"
   ]
  }
 ],
 "metadata": {
  "kernelspec": {
   "display_name": "Python 3",
   "language": "python",
   "name": "python3"
  },
  "language_info": {
   "codemirror_mode": {
    "name": "ipython",
    "version": 3
   },
   "file_extension": ".py",
   "mimetype": "text/x-python",
   "name": "python",
   "nbconvert_exporter": "python",
   "pygments_lexer": "ipython3",
   "version": "3.11.2"
  },
  "orig_nbformat": 4
 },
 "nbformat": 4,
 "nbformat_minor": 2
}
