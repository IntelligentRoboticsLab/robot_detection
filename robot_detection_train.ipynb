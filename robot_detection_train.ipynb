{
 "cells": [
  {
   "cell_type": "code",
   "execution_count": 1,
   "metadata": {},
   "outputs": [
    {
     "data": {
      "text/plain": [
       "<torch._C.Generator at 0x7ff60dbca190>"
      ]
     },
     "execution_count": 1,
     "metadata": {},
     "output_type": "execute_result"
    }
   ],
   "source": [
    "%load_ext autoreload\n",
    "%autoreload 2\n",
    "import os\n",
    "\n",
    "import torch\n",
    "from torch.utils.data import DataLoader\n",
    "from datasets import TransformedRoboEireanData, RoboEireanDataWithEncoder\n",
    "import utils\n",
    "from pytorch_lightning.callbacks import RichProgressBar\n",
    "import pytorch_lightning as pl\n",
    "from models import MultiClassJetNet\n",
    "import torchvision.transforms as T\n",
    "torch.manual_seed(2)"
   ]
  },
  {
   "cell_type": "code",
   "execution_count": 2,
   "metadata": {},
   "outputs": [
    {
     "data": {
      "text/plain": [
       "True"
      ]
     },
     "execution_count": 2,
     "metadata": {},
     "output_type": "execute_result"
    }
   ],
   "source": [
    "torch.cuda.is_available()"
   ]
  },
  {
   "cell_type": "code",
   "execution_count": 3,
   "metadata": {},
   "outputs": [],
   "source": [
    "# # Default scalings for the default boxes determined by k-means clustering\n",
    "# default_box_scalings = torch.tensor(\n",
    "#     [\n",
    "#         [0.06549374, 0.12928654],\n",
    "#         [0.11965626, 0.26605093],\n",
    "#         [0.20708716, 0.38876095],\n",
    "#         [0.31018215, 0.47485098],\n",
    "#         [0.415882, 0.8048184],\n",
    "#         [0.7293086, 0.8216225],\n",
    "#     ]\n",
    "# )\n",
    "\n",
    "default_box_scalings = torch.tensor(\n",
    "    [\n",
    "       [0.07817151, 0.08758757],\n",
    "       [0.12295947, 0.196875  ],\n",
    "       [0.2434896 , 0.2568398 ],\n",
    "       [0.35460067, 0.5065973 ],\n",
    "       [0.39320913, 0.9054488 ],\n",
    "       [0.97875   , 0.96083343]\n",
    "    ]\n",
    ")\n",
    "\n",
    "classes = [\"robot\"]\n",
    "encoder = utils.Encoder(default_box_scalings, [\"robot\"])\n",
    "transformed_train_data = TransformedRoboEireanData(\n",
    "    os.path.join(\"data\", \"transformed\", \"train\"), encoder\n",
    ")\n",
    "transformed_val_data = TransformedRoboEireanData(\n",
    "    os.path.join(\n",
    "        \"data\",\n",
    "        \"transformed\",\n",
    "        \"val\",\n",
    "    ),\n",
    "    encoder,\n",
    ")\n",
    "\n",
    "\n",
    "image_transforms = T.Compose(\n",
    "            [\n",
    "                T.Grayscale(),\n",
    "                T.PILToTensor(),\n",
    "                T.ConvertImageDtype(torch.float32),\n",
    "                T.Resize((60, 80)),\n",
    "            ]\n",
    "        )\n",
    "bounding_box_transforms = T.Compose([])\n",
    "\n",
    "raw_train_data = RoboEireanDataWithEncoder(os.path.join(\"data\", \"coco_ball_nao\", \"train\"),\n",
    "                                           encoder,\n",
    "                                           [\"robot\"], image_transforms=image_transforms, bounding_box_transforms=bounding_box_transforms)\n",
    "\n",
    "raw_val_data = RoboEireanDataWithEncoder(os.path.join(\"data\", \"coco_ball_nao\", \"val\"),\n",
    "                                           encoder,\n",
    "                                           [\"robot\"], image_transforms=image_transforms, bounding_box_transforms=bounding_box_transforms)\n"
   ]
  },
  {
   "cell_type": "code",
   "execution_count": 5,
   "metadata": {},
   "outputs": [
    {
     "name": "stderr",
     "output_type": "stream",
     "text": [
      "GPU available: True (cuda), used: True\n",
      "TPU available: False, using: 0 TPU cores\n",
      "IPU available: False, using: 0 IPUs\n",
      "HPU available: False, using: 0 HPUs\n",
      "You are using a CUDA device ('NVIDIA GeForce RTX 3090') that has Tensor Cores. To properly utilize them, you should set `torch.set_float32_matmul_precision('medium' | 'high')` which will trade-off precision for performance. For more details, read https://pytorch.org/docs/stable/generated/torch.set_float32_matmul_precision.html#torch.set_float32_matmul_precision\n",
      "LOCAL_RANK: 0 - CUDA_VISIBLE_DEVICES: [0]\n"
     ]
    },
    {
     "data": {
      "text/html": [
       "<pre style=\"white-space:pre;overflow-x:auto;line-height:normal;font-family:Menlo,'DejaVu Sans Mono',consolas,'Courier New',monospace\">┏━━━┳━━━━━━━━━━━━━━━━━━━━━┳━━━━━━━━━━━━━━━━━━━━┳━━━━━━━━┓\n",
       "┃<span style=\"color: #800080; text-decoration-color: #800080; font-weight: bold\">   </span>┃<span style=\"color: #800080; text-decoration-color: #800080; font-weight: bold\"> Name                </span>┃<span style=\"color: #800080; text-decoration-color: #800080; font-weight: bold\"> Type               </span>┃<span style=\"color: #800080; text-decoration-color: #800080; font-weight: bold\"> Params </span>┃\n",
       "┡━━━╇━━━━━━━━━━━━━━━━━━━━━╇━━━━━━━━━━━━━━━━━━━━╇━━━━━━━━┩\n",
       "│<span style=\"color: #7f7f7f; text-decoration-color: #7f7f7f\"> 0 </span>│ accuracy            │ MulticlassAccuracy │      0 │\n",
       "│<span style=\"color: #7f7f7f; text-decoration-color: #7f7f7f\"> 1 </span>│ input_layer         │ NormConv2dReLU     │    146 │\n",
       "│<span style=\"color: #7f7f7f; text-decoration-color: #7f7f7f\"> 2 </span>│ depth_wise_backbone │ Sequential         │  4.9 K │\n",
       "│<span style=\"color: #7f7f7f; text-decoration-color: #7f7f7f\"> 3 </span>│ classifier          │ Sequential         │ 20.9 K │\n",
       "│<span style=\"color: #7f7f7f; text-decoration-color: #7f7f7f\"> 4 </span>│ output_layer        │ Conv2d             │    900 │\n",
       "└───┴─────────────────────┴────────────────────┴────────┘\n",
       "</pre>\n"
      ],
      "text/plain": [
       "┏━━━┳━━━━━━━━━━━━━━━━━━━━━┳━━━━━━━━━━━━━━━━━━━━┳━━━━━━━━┓\n",
       "┃\u001b[1;35m \u001b[0m\u001b[1;35m \u001b[0m\u001b[1;35m \u001b[0m┃\u001b[1;35m \u001b[0m\u001b[1;35mName               \u001b[0m\u001b[1;35m \u001b[0m┃\u001b[1;35m \u001b[0m\u001b[1;35mType              \u001b[0m\u001b[1;35m \u001b[0m┃\u001b[1;35m \u001b[0m\u001b[1;35mParams\u001b[0m\u001b[1;35m \u001b[0m┃\n",
       "┡━━━╇━━━━━━━━━━━━━━━━━━━━━╇━━━━━━━━━━━━━━━━━━━━╇━━━━━━━━┩\n",
       "│\u001b[2m \u001b[0m\u001b[2m0\u001b[0m\u001b[2m \u001b[0m│ accuracy            │ MulticlassAccuracy │      0 │\n",
       "│\u001b[2m \u001b[0m\u001b[2m1\u001b[0m\u001b[2m \u001b[0m│ input_layer         │ NormConv2dReLU     │    146 │\n",
       "│\u001b[2m \u001b[0m\u001b[2m2\u001b[0m\u001b[2m \u001b[0m│ depth_wise_backbone │ Sequential         │  4.9 K │\n",
       "│\u001b[2m \u001b[0m\u001b[2m3\u001b[0m\u001b[2m \u001b[0m│ classifier          │ Sequential         │ 20.9 K │\n",
       "│\u001b[2m \u001b[0m\u001b[2m4\u001b[0m\u001b[2m \u001b[0m│ output_layer        │ Conv2d             │    900 │\n",
       "└───┴─────────────────────┴────────────────────┴────────┘\n"
      ]
     },
     "metadata": {},
     "output_type": "display_data"
    },
    {
     "data": {
      "text/html": [
       "<pre style=\"white-space:pre;overflow-x:auto;line-height:normal;font-family:Menlo,'DejaVu Sans Mono',consolas,'Courier New',monospace\"><span style=\"font-weight: bold\">Trainable params</span>: 26.8 K                                                                                           \n",
       "<span style=\"font-weight: bold\">Non-trainable params</span>: 0                                                                                            \n",
       "<span style=\"font-weight: bold\">Total params</span>: 26.8 K                                                                                               \n",
       "<span style=\"font-weight: bold\">Total estimated model params size (MB)</span>: 0                                                                          \n",
       "</pre>\n"
      ],
      "text/plain": [
       "\u001b[1mTrainable params\u001b[0m: 26.8 K                                                                                           \n",
       "\u001b[1mNon-trainable params\u001b[0m: 0                                                                                            \n",
       "\u001b[1mTotal params\u001b[0m: 26.8 K                                                                                               \n",
       "\u001b[1mTotal estimated model params size (MB)\u001b[0m: 0                                                                          \n"
      ]
     },
     "metadata": {},
     "output_type": "display_data"
    },
    {
     "data": {
      "application/vnd.jupyter.widget-view+json": {
       "model_id": "82dc9536d9cd4ef6bb50d97da53bca5c",
       "version_major": 2,
       "version_minor": 0
      },
      "text/plain": [
       "Output()"
      ]
     },
     "metadata": {},
     "output_type": "display_data"
    },
    {
     "data": {
      "text/html": [
       "<pre style=\"white-space:pre;overflow-x:auto;line-height:normal;font-family:Menlo,'DejaVu Sans Mono',consolas,'Courier New',monospace\">/home/dntai/Documents/GitHub/robot_detection/.venv/lib/python3.10/site-packages/torchvision/transforms/functional.p\n",
       "y:1603: UserWarning: The default value of the antialias parameter of all the resizing transforms (Resize(), \n",
       "RandomResizedCrop(), etc.) will change from None to True in v0.17, in order to be consistent across the PIL and \n",
       "Tensor backends. To suppress this warning, directly pass antialias=True (recommended, future default), \n",
       "antialias=None (current default, which means False for Tensors and True for PIL), or antialias=False (only works on\n",
       "Tensors - PIL will still use antialiasing). This also applies if you are using the inference transforms from the \n",
       "models weights: update the call to weights.transforms(antialias=True).\n",
       "  warnings.warn(\n",
       "</pre>\n"
      ],
      "text/plain": [
       "/home/dntai/Documents/GitHub/robot_detection/.venv/lib/python3.10/site-packages/torchvision/transforms/functional.p\n",
       "y:1603: UserWarning: The default value of the antialias parameter of all the resizing transforms (Resize(), \n",
       "RandomResizedCrop(), etc.) will change from None to True in v0.17, in order to be consistent across the PIL and \n",
       "Tensor backends. To suppress this warning, directly pass antialias=True (recommended, future default), \n",
       "antialias=None (current default, which means False for Tensors and True for PIL), or antialias=False (only works on\n",
       "Tensors - PIL will still use antialiasing). This also applies if you are using the inference transforms from the \n",
       "models weights: update the call to weights.transforms(antialias=True).\n",
       "  warnings.warn(\n"
      ]
     },
     "metadata": {},
     "output_type": "display_data"
    },
    {
     "data": {
      "text/html": [
       "<pre style=\"white-space:pre;overflow-x:auto;line-height:normal;font-family:Menlo,'DejaVu Sans Mono',consolas,'Courier New',monospace\"></pre>\n"
      ],
      "text/plain": []
     },
     "metadata": {},
     "output_type": "display_data"
    },
    {
     "data": {
      "text/html": [
       "<pre style=\"white-space:pre;overflow-x:auto;line-height:normal;font-family:Menlo,'DejaVu Sans Mono',consolas,'Courier New',monospace\">\n",
       "</pre>\n"
      ],
      "text/plain": [
       "\n"
      ]
     },
     "metadata": {},
     "output_type": "display_data"
    }
   ],
   "source": [
    "learning_rate = 1e-3\n",
    "train_loader = DataLoader(\n",
    "    raw_train_data, batch_size=32, shuffle=True, num_workers=0\n",
    ")\n",
    "val_loader = DataLoader(\n",
    "    raw_val_data, batch_size=32, shuffle=False, num_workers=0\n",
    ")\n",
    "\n",
    "pl_model = MultiClassJetNet(len(classes), default_box_scalings.size(0), learning_rate)\n",
    "trainer = pl.Trainer(\n",
    "    limit_predict_batches=100, max_epochs=200, callbacks=[RichProgressBar()]\n",
    ")\n",
    "trainer.fit(model=pl_model, train_dataloaders=train_loader, val_dataloaders=val_loader)\n"
   ]
  }
 ],
 "metadata": {
  "kernelspec": {
   "display_name": ".venv",
   "language": "python",
   "name": "python3"
  },
  "language_info": {
   "codemirror_mode": {
    "name": "ipython",
    "version": 3
   },
   "file_extension": ".py",
   "mimetype": "text/x-python",
   "name": "python",
   "nbconvert_exporter": "python",
   "pygments_lexer": "ipython3",
   "version": "3.10.6"
  },
  "orig_nbformat": 4,
  "vscode": {
   "interpreter": {
    "hash": "f4b33f3bd3006839683caa3a05bbc4ebc251421a0b5188a4af3ca802ec5d8974"
   }
  }
 },
 "nbformat": 4,
 "nbformat_minor": 2
}
