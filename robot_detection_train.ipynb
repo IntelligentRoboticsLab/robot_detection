{
 "cells": [
  {
   "cell_type": "code",
   "execution_count": 4,
   "metadata": {},
   "outputs": [
    {
     "name": "stdout",
     "output_type": "stream",
     "text": [
      "The autoreload extension is already loaded. To reload it, use:\n",
      "  %reload_ext autoreload\n"
     ]
    },
    {
     "data": {
      "text/plain": [
       "<torch._C.Generator at 0x7f9da811d2d0>"
      ]
     },
     "execution_count": 4,
     "metadata": {},
     "output_type": "execute_result"
    }
   ],
   "source": [
    "%load_ext autoreload\n",
    "%autoreload 2\n",
    "import os\n",
    "\n",
    "import torch\n",
    "from torch.utils.data import DataLoader\n",
    "from datasets import TransformedRoboEireanData\n",
    "import utils\n",
    "from pytorch_lightning.callbacks import RichProgressBar\n",
    "import pytorch_lightning as pl\n",
    "from models import JetNet\n",
    "torch.manual_seed(2)"
   ]
  },
  {
   "cell_type": "code",
   "execution_count": 5,
   "metadata": {},
   "outputs": [],
   "source": [
    "# Default scalings for the default boxes determined by k-means clustering\n",
    "default_box_scalings = torch.tensor(\n",
    "    [\n",
    "        [0.06549374, 0.12928654],\n",
    "        [0.11965626, 0.26605093],\n",
    "        [0.20708716, 0.38876095],\n",
    "        [0.31018215, 0.47485098],\n",
    "        [0.415882, 0.8048184],\n",
    "        [0.7293086, 0.8216225],\n",
    "    ]\n",
    ")\n",
    "classes = [\"robot\"]\n",
    "encoder = utils.Encoder(default_box_scalings, classes)\n",
    "transformed_train_data = TransformedRoboEireanData(\n",
    "    os.path.join(\"data\", \"transformed\", \"train\"), encoder\n",
    ")\n",
    "transformed_val_data = TransformedRoboEireanData(\n",
    "    os.path.join(\n",
    "        \"data\",\n",
    "        \"transformed\",\n",
    "        \"val\",\n",
    "    ),\n",
    "    encoder,\n",
    ")"
   ]
  },
  {
   "cell_type": "code",
   "execution_count": 10,
   "metadata": {},
   "outputs": [
    {
     "name": "stdout",
     "output_type": "stream",
     "text": [
      "\"learning_rate\": 0.001\n",
      "\"model\":         NormConv2dReLU(\n",
      "  (batch_normalization): BatchNorm2d(3, eps=1e-05, momentum=0.1, affine=True, track_running_stats=True)\n",
      "  (conv2d): Conv2d(3, 3, kernel_size=(3, 3), stride=(1, 1), padding=same, bias=False)\n",
      "  (relu): ReLU()\n",
      ")\n",
      "\"num_boxes\":     6\n",
      "\"num_classes\":   1\n",
      "hello\n"
     ]
    },
    {
     "name": "stderr",
     "output_type": "stream",
     "text": [
      "/home/jonathan/hulks/ml/.venv/lib/python3.11/site-packages/pytorch_lightning/utilities/parsing.py:197: UserWarning: Attribute 'model' is an instance of `nn.Module` and is already saved during checkpointing. It is recommended to ignore them using `self.save_hyperparameters(ignore=['model'])`.\n",
      "  rank_zero_warn(\n"
     ]
    }
   ],
   "source": [
    "learning_rate = 1e-3\n",
    "train_loader = DataLoader(\n",
    "    transformed_train_data, batch_size=32, shuffle=True, num_workers=0\n",
    ")\n",
    "val_loader = DataLoader(\n",
    "    transformed_val_data, batch_size=32, shuffle=False, num_workers=0\n",
    ")\n",
    "\n",
    "pl_model = JetNet(len(classes), default_box_scalings.size(0), learning_rate)\n",
    "# trainer = pl.Trainer(\n",
    "#     limit_predict_batches=100, max_epochs=200, callbacks=[RichProgressBar()]\n",
    "# )\n",
    "# trainer.fit(model=pl_model, train_dataloaders=train_loader, val_dataloaders=val_loader)"
   ]
  }
 ],
 "metadata": {
  "kernelspec": {
   "display_name": "venv",
   "language": "python",
   "name": "python3"
  },
  "language_info": {
   "codemirror_mode": {
    "name": "ipython",
    "version": 3
   },
   "file_extension": ".py",
   "mimetype": "text/x-python",
   "name": "python",
   "nbconvert_exporter": "python",
   "pygments_lexer": "ipython3",
   "version": "3.11.3"
  },
  "orig_nbformat": 4,
  "vscode": {
   "interpreter": {
    "hash": "8179af3a6648109ce06e2d9f5db23fa843e75289adf6dc335b42c828d3bf7f76"
   }
  }
 },
 "nbformat": 4,
 "nbformat_minor": 2
}
