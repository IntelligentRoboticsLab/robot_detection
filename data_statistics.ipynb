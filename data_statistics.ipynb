{
 "cells": [
  {
   "cell_type": "code",
   "execution_count": 1,
   "metadata": {},
   "outputs": [],
   "source": [
    "import json\n",
    "from collections import defaultdict\n",
    "import matplotlib.pyplot as plt\n",
    "import random"
   ]
  },
  {
   "cell_type": "code",
   "execution_count": 2,
   "metadata": {},
   "outputs": [
    {
     "name": "stdout",
     "output_type": "stream",
     "text": [
      "dict_keys(['info', 'licences', 'images', 'annotations', 'categories'])\n"
     ]
    }
   ],
   "source": [
    "data_path = \"data/bbox.json\"\n",
    "\n",
    "with open(data_path) as f:\n",
    "    data = json.load(f)\n",
    "\n",
    "print(data.keys())"
   ]
  },
  {
   "attachments": {},
   "cell_type": "markdown",
   "metadata": {},
   "source": [
    "The bounding boxes and categories for a certain object can be found in annotations."
   ]
  },
  {
   "cell_type": "code",
   "execution_count": 3,
   "metadata": {},
   "outputs": [
    {
     "name": "stdout",
     "output_type": "stream",
     "text": [
      "{'segmentation': [], 'area': 20048, 'iscrowd': 0, 'image_id': 3, 'bbox': [410, 99, 112, 179], 'keypoints': [], 'num_keypoints': 0, 'category_id': 1, 'id': 0}\n"
     ]
    }
   ],
   "source": [
    "print(data['annotations'][0])"
   ]
  },
  {
   "cell_type": "code",
   "execution_count": 12,
   "metadata": {},
   "outputs": [
    {
     "name": "stdout",
     "output_type": "stream",
     "text": [
      "[{'id': 0, 'name': 'Football', 'supercategory': 'default', 'keypoints': [], 'skeleton': []}, {'id': 1, 'name': 'Nao_Robot', 'supercategory': 'default', 'keypoints': [], 'skeleton': []}]\n"
     ]
    }
   ],
   "source": [
    "print(data['categories'])"
   ]
  },
  {
   "cell_type": "code",
   "execution_count": 5,
   "metadata": {},
   "outputs": [
    {
     "name": "stdout",
     "output_type": "stream",
     "text": [
      "{'id': 1, 'width': 640.0, 'height': 480.0, 'file_name': 'camera_1.png'}\n"
     ]
    }
   ],
   "source": [
    "print(data['images'][0])"
   ]
  },
  {
   "attachments": {},
   "cell_type": "markdown",
   "metadata": {},
   "source": [
    "A dictionary for the occurences of catgeories by name and number"
   ]
  },
  {
   "cell_type": "code",
   "execution_count": 6,
   "metadata": {},
   "outputs": [],
   "source": [
    "occurences_categories = defaultdict(int)\n",
    "occurences_categories_names = defaultdict(int)\n",
    "\n",
    "for annotation in data['annotations']:\n",
    "    for category in data['categories']:\n",
    "        if category['id'] == annotation['category_id']:\n",
    "            occurences_categories_names[category['name']] += 1\n",
    "            break\n",
    "\n",
    "    occurences_categories[annotation['category_id']] += 1\n",
    "\n",
    "occurences_categories = sorted(occurences_categories.items(), key=lambda x: x[1], reverse=True)\n",
    "occurences_categories_names = sorted(occurences_categories_names.items(), key=lambda x: x[1], reverse=True)"
   ]
  },
  {
   "cell_type": "code",
   "execution_count": 16,
   "metadata": {},
   "outputs": [
    {
     "data": {
      "image/png": "[encoded data removed]",
      "text/plain": [
       "<Figure size 640x480 with 1 Axes>"
      ]
     },
     "metadata": {},
     "output_type": "display_data"
    }
   ],
   "source": [
    "keys = [x[0] for x in occurences_categories_names]\n",
    "values = [x[1] for x in occurences_categories_names]\n",
    "\n",
    "# plt.figure(figsize=(6,6))\n",
    "plt.bar(keys, values)\n",
    "plt.xlabel('Class')\n",
    "plt.ylabel('Frequency')\n",
    "# plt.xticks(range(len(keys)), keys, rotation='vertical')\n",
    "plt.title('Frequency classes training data COCO')\n",
    "plt.show()"
   ]
  },
  {
   "cell_type": "code",
   "execution_count": 8,
   "metadata": {},
   "outputs": [
    {
     "name": "stdout",
     "output_type": "stream",
     "text": [
      "('Nao_Robot', 1169)\n",
      "('Football', 1064)\n"
     ]
    }
   ],
   "source": [
    "for category in occurences_categories_names:\n",
    "    print(category)"
   ]
  },
  {
   "attachments": {},
   "cell_type": "markdown",
   "metadata": {},
   "source": [
    "Doctionary for the annotations per class"
   ]
  },
  {
   "cell_type": "code",
   "execution_count": 5,
   "metadata": {},
   "outputs": [],
   "source": [
    "annotations_per_category = defaultdict(list)\n",
    "\n",
    "for annotation in data['annotations']:\n",
    "    for category in data['categories']:\n",
    "        if category['id'] == annotation['category_id']:\n",
    "            # images_per_category[category['name']].append({'image_id': annotation['image_id'], 'annotation_id': annotation['id']})\n",
    "            annotations_per_category[category['name']].append(annotation['id'])\n",
    "            break"
   ]
  },
  {
   "attachments": {},
   "cell_type": "markdown",
   "metadata": {},
   "source": [
    "Only 1169 images contain a robot."
   ]
  },
  {
   "cell_type": "code",
   "execution_count": 15,
   "metadata": {},
   "outputs": [
    {
     "name": "stdout",
     "output_type": "stream",
     "text": [
      "1169\n"
     ]
    }
   ],
   "source": [
    "images = set()\n",
    "\n",
    "for annotation in data['annotations']:\n",
    "    if annotation['category_id'] == 1:\n",
    "        images.add(annotation['image_id'])\n",
    "\n",
    "empty_images = []\n",
    "\n",
    "for image in data['images']:\n",
    "    if image['id'] not in images:\n",
    "        empty_images.append(image['id'])\n",
    "    \n",
    "print(5000 - len(empty_images))"
   ]
  },
  {
   "attachments": {},
   "cell_type": "markdown",
   "metadata": {},
   "source": [
    "Removing data"
   ]
  },
  {
   "cell_type": "code",
   "execution_count": 6,
   "metadata": {},
   "outputs": [],
   "source": [
    "# number_to_keep = 300\n",
    "# number_of_least_frequent_classes = 10\n",
    "# ten_least_frequent_categories = list(dict(occurences_categories_names).keys())[len(occurences_categories_names)-number_of_least_frequent_classes:len(occurences_categories_names)]\n",
    "# annotations_to_remove = []\n",
    "\n",
    "# for category in ten_least_frequent_categories:\n",
    "#     if len(annotations_per_category[category]) <= number_to_keep:\n",
    "#         number_to_remove = 0\n",
    "#     else:\n",
    "#         number_to_remove = len(annotations_per_category[category]) - number_to_keep\n",
    "#     annotations_to_remove += random.sample(annotations_per_category[category], number_to_remove)\n",
    "\n",
    "# data[\"annotations\"] = [annotation for annotation in data[\"annotations\"] if annotation[\"id\"] not in annotations_to_remove]"
   ]
  },
  {
   "attachments": {},
   "cell_type": "markdown",
   "metadata": {},
   "source": [
    "Saving new dataset as json file."
   ]
  },
  {
   "cell_type": "code",
   "execution_count": 7,
   "metadata": {},
   "outputs": [],
   "source": [
    "# data_path = '../data/coco/annotations/instances_train2017_longtailed_300.json'\n",
    "\n",
    "# with open(data_path, 'w') as f:\n",
    "#     json.dump(data, f)"
   ]
  }
 ],
 "metadata": {
  "kernelspec": {
   "display_name": "mmdet_env",
   "language": "python",
   "name": "python3"
  },
  "language_info": {
   "codemirror_mode": {
    "name": "ipython",
    "version": 3
   },
   "file_extension": ".py",
   "mimetype": "text/x-python",
   "name": "python",
   "nbconvert_exporter": "python",
   "pygments_lexer": "ipython3",
   "version": "3.10.10"
  },
  "orig_nbformat": 4
 },
 "nbformat": 4,
 "nbformat_minor": 2
}
