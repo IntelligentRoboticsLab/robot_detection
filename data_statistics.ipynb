{
 "cells": [
  {
   "cell_type": "code",
   "execution_count": 7,
   "metadata": {},
   "outputs": [],
   "source": [
    "import json\n",
    "from collections import defaultdict\n",
    "import matplotlib.pyplot as plt\n",
    "import random"
   ]
  },
  {
   "cell_type": "code",
   "execution_count": 8,
   "metadata": {},
   "outputs": [
    {
     "ename": "FileNotFoundError",
     "evalue": "[Errno 2] No such file or directory: 'data/bbox.json'",
     "output_type": "error",
     "traceback": [
      "\u001b[0;31m---------------------------------------------------------------------------\u001b[0m",
      "\u001b[0;31mFileNotFoundError\u001b[0m                         Traceback (most recent call last)",
      "Cell \u001b[0;32mIn[8], line 3\u001b[0m\n\u001b[1;32m      1\u001b[0m data_path \u001b[39m=\u001b[39m \u001b[39m\"\u001b[39m\u001b[39mdata/bbox.json\u001b[39m\u001b[39m\"\u001b[39m\n\u001b[0;32m----> 3\u001b[0m \u001b[39mwith\u001b[39;00m \u001b[39mopen\u001b[39;49m(data_path) \u001b[39mas\u001b[39;00m f:\n\u001b[1;32m      4\u001b[0m     data \u001b[39m=\u001b[39m json\u001b[39m.\u001b[39mload(f)\n\u001b[1;32m      6\u001b[0m \u001b[39mprint\u001b[39m(data\u001b[39m.\u001b[39mkeys())\n",
      "File \u001b[0;32m/opt/anaconda3/lib/python3.8/site-packages/IPython/core/interactiveshell.py:282\u001b[0m, in \u001b[0;36m_modified_open\u001b[0;34m(file, *args, **kwargs)\u001b[0m\n\u001b[1;32m    275\u001b[0m \u001b[39mif\u001b[39;00m file \u001b[39min\u001b[39;00m {\u001b[39m0\u001b[39m, \u001b[39m1\u001b[39m, \u001b[39m2\u001b[39m}:\n\u001b[1;32m    276\u001b[0m     \u001b[39mraise\u001b[39;00m \u001b[39mValueError\u001b[39;00m(\n\u001b[1;32m    277\u001b[0m         \u001b[39mf\u001b[39m\u001b[39m\"\u001b[39m\u001b[39mIPython won\u001b[39m\u001b[39m'\u001b[39m\u001b[39mt let you open fd=\u001b[39m\u001b[39m{\u001b[39;00mfile\u001b[39m}\u001b[39;00m\u001b[39m by default \u001b[39m\u001b[39m\"\u001b[39m\n\u001b[1;32m    278\u001b[0m         \u001b[39m\"\u001b[39m\u001b[39mas it is likely to crash IPython. If you know what you are doing, \u001b[39m\u001b[39m\"\u001b[39m\n\u001b[1;32m    279\u001b[0m         \u001b[39m\"\u001b[39m\u001b[39myou can use builtins\u001b[39m\u001b[39m'\u001b[39m\u001b[39m open.\u001b[39m\u001b[39m\"\u001b[39m\n\u001b[1;32m    280\u001b[0m     )\n\u001b[0;32m--> 282\u001b[0m \u001b[39mreturn\u001b[39;00m io_open(file, \u001b[39m*\u001b[39;49margs, \u001b[39m*\u001b[39;49m\u001b[39m*\u001b[39;49mkwargs)\n",
      "\u001b[0;31mFileNotFoundError\u001b[0m: [Errno 2] No such file or directory: 'data/bbox.json'"
     ]
    }
   ],
   "source": [
    "data_path = \"data/bbox.json\"\n",
    "\n",
    "with open(data_path) as f:\n",
    "    data = json.load(f)\n",
    "\n",
    "print(data.keys())"
   ]
  },
  {
   "attachments": {},
   "cell_type": "markdown",
   "metadata": {},
   "source": [
    "The bounding boxes and categories for a certain object can be found in annotations."
   ]
  },
  {
   "cell_type": "code",
   "execution_count": null,
   "metadata": {},
   "outputs": [
    {
     "name": "stdout",
     "output_type": "stream",
     "text": [
      "{'segmentation': [], 'area': 20048, 'iscrowd': 0, 'image_id': 3, 'bbox': [410, 99, 112, 179], 'keypoints': [], 'num_keypoints': 0, 'category_id': 1, 'id': 0}\n"
     ]
    }
   ],
   "source": [
    "print(data['annotations'][0])"
   ]
  },
  {
   "cell_type": "code",
   "execution_count": null,
   "metadata": {},
   "outputs": [
    {
     "name": "stdout",
     "output_type": "stream",
     "text": [
      "[{'id': 0, 'name': 'Football', 'supercategory': 'default', 'keypoints': [], 'skeleton': []}, {'id': 1, 'name': 'Nao_Robot', 'supercategory': 'default', 'keypoints': [], 'skeleton': []}]\n"
     ]
    }
   ],
   "source": [
    "print(data['categories'])"
   ]
  },
  {
   "cell_type": "code",
   "execution_count": null,
   "metadata": {},
   "outputs": [
    {
     "name": "stdout",
     "output_type": "stream",
     "text": [
      "{'id': 1, 'width': 640.0, 'height': 480.0, 'file_name': 'camera_1.png'}\n"
     ]
    }
   ],
   "source": [
    "print(data['images'][0])"
   ]
  },
  {
   "attachments": {},
   "cell_type": "markdown",
   "metadata": {},
   "source": [
    "A dictionary for the occurences of catgeories by name and number"
   ]
  },
  {
   "cell_type": "code",
   "execution_count": null,
   "metadata": {},
   "outputs": [],
   "source": [
    "occurences_categories = defaultdict(int)\n",
    "occurences_categories_names = defaultdict(int)\n",
    "\n",
    "for annotation in data['annotations']:\n",
    "    for category in data['categories']:\n",
    "        if category['id'] == annotation['category_id']:\n",
    "            occurences_categories_names[category['name']] += 1\n",
    "            break\n",
    "\n",
    "    occurences_categories[annotation['category_id']] += 1\n",
    "\n",
    "occurences_categories = sorted(occurences_categories.items(), key=lambda x: x[1], reverse=True)\n",
    "occurences_categories_names = sorted(occurences_categories_names.items(), key=lambda x: x[1], reverse=True)"
   ]
  },
  {
   "cell_type": "code",
   "execution_count": null,
   "metadata": {},
   "outputs": [
    {
     "data": {
      "image/png": "[encoded data removed]",
      "text/plain": [
       "<Figure size 640x480 with 1 Axes>"
      ]
     },
     "metadata": {},
     "output_type": "display_data"
    }
   ],
   "source": [
    "keys = [x[0] for x in occurences_categories_names]\n",
    "values = [x[1] for x in occurences_categories_names]\n",
    "\n",
    "# plt.figure(figsize=(6,6))\n",
    "plt.bar(keys, values)\n",
    "plt.xlabel('Class')\n",
    "plt.ylabel('Frequency')\n",
    "# plt.xticks(range(len(keys)), keys, rotation='vertical')\n",
    "plt.title('Frequency classes training data COCO')\n",
    "plt.show()"
   ]
  },
  {
   "cell_type": "code",
   "execution_count": null,
   "metadata": {},
   "outputs": [
    {
     "name": "stdout",
     "output_type": "stream",
     "text": [
      "('Nao_Robot', 1169)\n",
      "('Football', 1064)\n"
     ]
    }
   ],
   "source": [
    "for category in occurences_categories_names:\n",
    "    print(category)"
   ]
  },
  {
   "attachments": {},
   "cell_type": "markdown",
   "metadata": {},
   "source": [
    "Doctionary for the annotations per class"
   ]
  },
  {
   "cell_type": "code",
   "execution_count": null,
   "metadata": {},
   "outputs": [],
   "source": [
    "annotations_per_category = defaultdict(list)\n",
    "\n",
    "for annotation in data['annotations']:\n",
    "    for category in data['categories']:\n",
    "        if category['id'] == annotation['category_id']:\n",
    "            # images_per_category[category['name']].append({'image_id': annotation['image_id'], 'annotation_id': annotation['id']})\n",
    "            annotations_per_category[category['name']].append(annotation['id'])\n",
    "            break"
   ]
  },
  {
   "attachments": {},
   "cell_type": "markdown",
   "metadata": {},
   "source": [
    "Only 1169 images contain a robot."
   ]
  },
  {
   "cell_type": "code",
   "execution_count": null,
   "metadata": {},
   "outputs": [
    {
     "name": "stdout",
     "output_type": "stream",
     "text": [
      "1169\n"
     ]
    }
   ],
   "source": [
    "images = set()\n",
    "\n",
    "for annotation in data['annotations']:\n",
    "    if annotation['category_id'] == 1:\n",
    "        images.add(annotation['image_id'])\n",
    "\n",
    "empty_images = []\n",
    "\n",
    "for image in data['images']:\n",
    "    if image['id'] not in images:\n",
    "        empty_images.append(image['id'])\n",
    "    \n",
    "print(5000 - len(empty_images))"
   ]
  },
  {
   "attachments": {},
   "cell_type": "markdown",
   "metadata": {},
   "source": [
    "Removing data"
   ]
  },
  {
   "cell_type": "code",
   "execution_count": null,
   "metadata": {},
   "outputs": [],
   "source": [
    "# number_to_keep = 300\n",
    "# number_of_least_frequent_classes = 10\n",
    "# ten_least_frequent_categories = list(dict(occurences_categories_names).keys())[len(occurences_categories_names)-number_of_least_frequent_classes:len(occurences_categories_names)]\n",
    "# annotations_to_remove = []\n",
    "\n",
    "# for category in ten_least_frequent_categories:\n",
    "#     if len(annotations_per_category[category]) <= number_to_keep:\n",
    "#         number_to_remove = 0\n",
    "#     else:\n",
    "#         number_to_remove = len(annotations_per_category[category]) - number_to_keep\n",
    "#     annotations_to_remove += random.sample(annotations_per_category[category], number_to_remove)\n",
    "\n",
    "# data[\"annotations\"] = [annotation for annotation in data[\"annotations\"] if annotation[\"id\"] not in annotations_to_remove]"
   ]
  },
  {
   "attachments": {},
   "cell_type": "markdown",
   "metadata": {},
   "source": [
    "Saving new dataset as json file."
   ]
  },
  {
   "cell_type": "code",
   "execution_count": null,
   "metadata": {},
   "outputs": [],
   "source": [
    "# data_path = '../data/coco/annotations/instances_train2017_longtailed_300.json'\n",
    "\n",
    "# with open(data_path, 'w') as f:\n",
    "#     json.dump(data, f)"
   ]
  },
  {
   "attachments": {},
   "cell_type": "markdown",
   "metadata": {},
   "source": [
    "Bounding box sizes robots"
   ]
  },
  {
   "cell_type": "code",
   "execution_count": 12,
   "metadata": {},
   "outputs": [
    {
     "data": {
      "image/png": "[encoded data removed]",
      "text/plain": [
       "<Figure size 640x480 with 2 Axes>"
      ]
     },
     "metadata": {},
     "output_type": "display_data"
    }
   ],
   "source": [
    "import os\n",
    "import matplotlib.pyplot as plt\n",
    "\n",
    "def create_bounding_box_histogram_yolo(txt_dir_path: str) -> None:\n",
    "    \"\"\"\n",
    "    Create two histograms of bounding box sizes from YOLO format text files.\n",
    "\n",
    "    Args:\n",
    "        txt_dir_path (str): Path to the directory containing YOLO format text files.\n",
    "\n",
    "    Returns:\n",
    "        None\n",
    "    \"\"\"\n",
    "    box_sizes_low = []\n",
    "    box_sizes_high = []\n",
    "\n",
    "    # Iterate over all text files in the directory\n",
    "    for txt_file in os.listdir(txt_dir_path):\n",
    "        if txt_file.endswith('.txt'):\n",
    "            txt_file_path = os.path.join(txt_dir_path, txt_file)\n",
    "\n",
    "            # Read the content of the text file\n",
    "            with open(txt_file_path, 'r') as file:\n",
    "                lines = file.readlines()\n",
    "\n",
    "            # Extract the bounding box sizes\n",
    "            for line in lines:\n",
    "                values = line.split()\n",
    "                _, _, width, height = map(float, values[1:])  # Extract width and height\n",
    "                box_size = width * height * 640 * 480\n",
    "\n",
    "                # Add to the appropriate list based on size\n",
    "                if box_size <= 50000:\n",
    "                    box_sizes_low.append(box_size)\n",
    "                else:\n",
    "                    box_sizes_high.append(box_size)\n",
    "\n",
    "    # Plot the histograms\n",
    "    fig, (ax1, ax2) = plt.subplots(2, 1)\n",
    "    ax1.hist(box_sizes_low, bins=50)\n",
    "    ax1.set_title('Bounding Box Size Histogram (0-50000)')\n",
    "    ax1.set_ylabel('Frequency')\n",
    "\n",
    "    ax2.hist(box_sizes_high, bins=50)\n",
    "    ax2.set_title('Bounding Box Size Histogram (50000+)')\n",
    "    ax2.set_xlabel('Bounding Box Size')\n",
    "    ax2.set_ylabel('Frequency')\n",
    "\n",
    "    plt.tight_layout()\n",
    "    plt.show()\n",
    "\n",
    "# Example usage:\n",
    "txt_dir_path = 'data/coco_nao/labels'\n",
    "create_bounding_box_histogram_yolo(txt_dir_path)\n"
   ]
  }
 ],
 "metadata": {
  "kernelspec": {
   "display_name": "Python 3",
   "language": "python",
   "name": "python3"
  },
  "language_info": {
   "codemirror_mode": {
    "name": "ipython",
    "version": 3
   },
   "file_extension": ".py",
   "mimetype": "text/x-python",
   "name": "python",
   "nbconvert_exporter": "python",
   "pygments_lexer": "ipython3",
   "version": "3.8.16"
  },
  "orig_nbformat": 4,
  "vscode": {
   "interpreter": {
    "hash": "40d3a090f54c6569ab1632332b64b2c03c39dcf918b08424e98f38b5ae0af88f"
   }
  }
 },
 "nbformat": 4,
 "nbformat_minor": 2
}
